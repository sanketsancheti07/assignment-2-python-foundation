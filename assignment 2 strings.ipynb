{
 "cells": [
  {
   "cell_type": "markdown",
   "id": "55b84017",
   "metadata": {},
   "source": [
    "# Q.1 How can we store a s1ngle quote (‘) as a string in a variable?"
   ]
  },
  {
   "cell_type": "code",
   "execution_count": 1,
   "id": "78f07314",
   "metadata": {},
   "outputs": [],
   "source": [
    "my_note = \"I'm student of JDCOEM\""
   ]
  },
  {
   "cell_type": "code",
   "execution_count": 2,
   "id": "42a18847",
   "metadata": {},
   "outputs": [
    {
     "data": {
      "text/plain": [
       "\"I'm student of JDCOEM\""
      ]
     },
     "execution_count": 2,
     "metadata": {},
     "output_type": "execute_result"
    }
   ],
   "source": [
    "my_note"
   ]
  },
  {
   "cell_type": "code",
   "execution_count": 6,
   "id": "095ba619",
   "metadata": {},
   "outputs": [
    {
     "ename": "SyntaxError",
     "evalue": "invalid syntax (1053760015.py, line 1)",
     "output_type": "error",
     "traceback": [
      "\u001b[1;36m  Cell \u001b[1;32mIn[6], line 1\u001b[1;36m\u001b[0m\n\u001b[1;33m    Note = 'I'm a student of JDCOEM'\u001b[0m\n\u001b[1;37m              ^\u001b[0m\n\u001b[1;31mSyntaxError\u001b[0m\u001b[1;31m:\u001b[0m invalid syntax\n"
     ]
    }
   ],
   "source": [
    "Note = 'I'm a student of JDCOEM'"
   ]
  },
  {
   "cell_type": "markdown",
   "id": "6287fc12",
   "metadata": {},
   "source": [
    "When we want to store single quote as a string in a variable so we use double qoute for writing a string."
   ]
  },
  {
   "cell_type": "markdown",
   "id": "ffb75735",
   "metadata": {},
   "source": [
    "# Q.2 Refer the below variable:\n",
    "x = ‘a' \n",
    "\n",
    "Here, is x a character type or string type variable? Support your answer with an explanation. "
   ]
  },
  {
   "cell_type": "code",
   "execution_count": 4,
   "id": "fbe321a2",
   "metadata": {},
   "outputs": [],
   "source": [
    "x = 'a'"
   ]
  },
  {
   "cell_type": "code",
   "execution_count": 5,
   "id": "feda40d5",
   "metadata": {},
   "outputs": [
    {
     "data": {
      "text/plain": [
       "str"
      ]
     },
     "execution_count": 5,
     "metadata": {},
     "output_type": "execute_result"
    }
   ],
   "source": [
    "type(x)"
   ]
  },
  {
   "cell_type": "markdown",
   "id": "e6f3bed4",
   "metadata": {},
   "source": [
    "So, if we store x = 'a', then it is string type. this is because the value 'a' is a string lateral. we also check the type of x using type() function"
   ]
  },
  {
   "cell_type": "markdown",
   "id": "d39cb823",
   "metadata": {},
   "source": [
    "# Apply the following functions on the variables "
   ]
  },
  {
   "cell_type": "code",
   "execution_count": 7,
   "id": "6e80dca9",
   "metadata": {},
   "outputs": [],
   "source": [
    "string = \"welcome to python foundation course\""
   ]
  },
  {
   "cell_type": "code",
   "execution_count": 8,
   "id": "f000a67c",
   "metadata": {},
   "outputs": [
    {
     "data": {
      "text/plain": [
       "'welcome to python foundation course'"
      ]
     },
     "execution_count": 8,
     "metadata": {},
     "output_type": "execute_result"
    }
   ],
   "source": [
    "string"
   ]
  },
  {
   "cell_type": "code",
   "execution_count": 10,
   "id": "e14e57b5",
   "metadata": {},
   "outputs": [
    {
     "data": {
      "text/plain": [
       "8"
      ]
     },
     "execution_count": 10,
     "metadata": {},
     "output_type": "execute_result"
    }
   ],
   "source": [
    "string.find(\"t\")"
   ]
  },
  {
   "cell_type": "code",
   "execution_count": 12,
   "id": "c74304dc",
   "metadata": {},
   "outputs": [
    {
     "data": {
      "text/plain": [
       "6"
      ]
     },
     "execution_count": 12,
     "metadata": {},
     "output_type": "execute_result"
    }
   ],
   "source": [
    "string.count('o')"
   ]
  },
  {
   "cell_type": "code",
   "execution_count": 13,
   "id": "4bfcfc62",
   "metadata": {},
   "outputs": [
    {
     "data": {
      "text/plain": [
       "35"
      ]
     },
     "execution_count": 13,
     "metadata": {},
     "output_type": "execute_result"
    }
   ],
   "source": [
    "len(string)"
   ]
  },
  {
   "cell_type": "code",
   "execution_count": 14,
   "id": "61d539ac",
   "metadata": {},
   "outputs": [],
   "source": [
    "string2 = \" by pwskills\""
   ]
  },
  {
   "cell_type": "code",
   "execution_count": 15,
   "id": "7776a715",
   "metadata": {},
   "outputs": [
    {
     "data": {
      "text/plain": [
       "'welcome to python foundation course by pwskills'"
      ]
     },
     "execution_count": 15,
     "metadata": {},
     "output_type": "execute_result"
    }
   ],
   "source": [
    "string + string2"
   ]
  },
  {
   "cell_type": "markdown",
   "id": "729f6161",
   "metadata": {},
   "source": [
    "# Q.4 for the variable word = \"Panaji@12256\" calculate the following."
   ]
  },
  {
   "cell_type": "code",
   "execution_count": 5,
   "id": "c9ce9123",
   "metadata": {},
   "outputs": [],
   "source": [
    "word = \"Panaji@12256\""
   ]
  },
  {
   "cell_type": "code",
   "execution_count": 7,
   "id": "3eb57b15",
   "metadata": {},
   "outputs": [
    {
     "name": "stdout",
     "output_type": "stream",
     "text": [
      "1\n",
      "5\n",
      "5\n"
     ]
    }
   ],
   "source": [
    "a = 0\n",
    "b = 0\n",
    "c = 0\n",
    "for i in word:\n",
    "    if i.isupper():\n",
    "        a+=1\n",
    "    elif i.islower():\n",
    "        b +=1\n",
    "    elif i.isdigit():\n",
    "        c +=1\n",
    "print(a)\n",
    "print(b)\n",
    "print(c)"
   ]
  },
  {
   "cell_type": "markdown",
   "id": "402e9501",
   "metadata": {},
   "source": [
    "# Q.5 Write a code to store a numerical value inside a variable then convert it into string."
   ]
  },
  {
   "cell_type": "code",
   "execution_count": 9,
   "id": "5a0da243",
   "metadata": {},
   "outputs": [
    {
     "name": "stdout",
     "output_type": "stream",
     "text": [
      "enter the numerical value 12345\n"
     ]
    }
   ],
   "source": [
    "num = int(input(\"enter the numerical value \"))"
   ]
  },
  {
   "cell_type": "code",
   "execution_count": 10,
   "id": "9a91083c",
   "metadata": {},
   "outputs": [
    {
     "data": {
      "text/plain": [
       "12345"
      ]
     },
     "execution_count": 10,
     "metadata": {},
     "output_type": "execute_result"
    }
   ],
   "source": [
    "num\n"
   ]
  },
  {
   "cell_type": "code",
   "execution_count": 11,
   "id": "30ca987b",
   "metadata": {},
   "outputs": [
    {
     "data": {
      "text/plain": [
       "'12345'"
      ]
     },
     "execution_count": 11,
     "metadata": {},
     "output_type": "execute_result"
    }
   ],
   "source": [
    "str(num)"
   ]
  },
  {
   "cell_type": "code",
   "execution_count": null,
   "id": "e7f665ac",
   "metadata": {},
   "outputs": [],
   "source": []
  }
 ],
 "metadata": {
  "kernelspec": {
   "display_name": "Python 3 (ipykernel)",
   "language": "python",
   "name": "python3"
  },
  "language_info": {
   "codemirror_mode": {
    "name": "ipython",
    "version": 3
   },
   "file_extension": ".py",
   "mimetype": "text/x-python",
   "name": "python",
   "nbconvert_exporter": "python",
   "pygments_lexer": "ipython3",
   "version": "3.9.16"
  }
 },
 "nbformat": 4,
 "nbformat_minor": 5
}
